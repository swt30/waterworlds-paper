{
 "cells": [
  {
   "cell_type": "markdown",
   "metadata": {},
   "source": [
    "# Measured masses and radii for known planets\n",
    "\n",
    "## Setup\n",
    "\n",
    "We are using the Open Exoplanet Catalogue from https://github.com/OpenExoplanetCatalogue/open_exoplanet_catalogue\n",
    "\n",
    "### XML parser"
   ]
  },
  {
   "cell_type": "code",
   "execution_count": 11,
   "metadata": {
    "collapsed": false
   },
   "outputs": [],
   "source": [
    "using LightXML"
   ]
  },
  {
   "cell_type": "markdown",
   "metadata": {},
   "source": [
    "### Path to files"
   ]
  },
  {
   "cell_type": "code",
   "execution_count": 12,
   "metadata": {
    "collapsed": false
   },
   "outputs": [],
   "source": [
    "oec_path = \"/home/scott/Software/open_exoplanet_catalogue/systems/\"\n",
    "files = readdir(oec_path)\n",
    "xmlfiles = filter(f -> contains(f, \".xml\"), files);"
   ]
  },
  {
   "cell_type": "markdown",
   "metadata": {},
   "source": [
    "### Filters for the nodes of interest"
   ]
  },
  {
   "cell_type": "code",
   "execution_count": 29,
   "metadata": {
    "collapsed": false
   },
   "outputs": [
    {
     "name": "stdout",
     "output_type": "stream",
     "text": [
      "node = <planet>\n",
      "\t\t\t<name>11 Com b</name>\n",
      "\t\t\t<list>Confirmed planets</list>\n",
      "\t\t\t<mass errorminus=\"1.5\" errorplus=\"1.5\" type=\"msini\">19.4</mass>\n",
      "\t\t\t<period errorminus=\"0.32\" errorplus=\"0.32\">326.03</period>\n",
      "\t\t\t<semimajoraxis errorminus=\"0.05\" errorplus=\"0.05\">1.29</semimajoraxis>\n",
      "\t\t\t<eccentricity errorminus=\"0.005\" errorplus=\"0.005\">0.231</eccentricity>\n",
      "\t\t\t<periastron errorminus=\"1.5\" errorplus=\"1.5\">94.8</periastron>\n",
      "\t\t\t<periastrontime errorminus=\"1.6\" errorplus=\"1.6\">2452899.6</periastrontime>\n",
      "\t\t\t<description>11 Com b is a brown dwarf-mass companion to the intermediate-mass star 11 Comae Berenices.</description>\n",
      "\t\t\t<discoverymethod>RV</discoverymethod>\n",
      "\t\t\t<lastupdate>15/09/20</lastupdate>\n",
      "\t\t\t<discoveryyear>2008</discoveryyear>\n",
      "\t\t</planet>\n"
     ]
    },
    {
     "ename": "LoadError",
     "evalue": "LoadError: MethodError: `find_element` has no method matching find_element(::LightXML.XMLNode, ::ASCIIString)\nClosest candidates are:\n  find_element(!Matched::LightXML.XMLElement, ::AbstractString)\nwhile loading In[29], in expression starting on line 17",
     "output_type": "error",
     "traceback": [
      "LoadError: MethodError: `find_element` has no method matching find_element(::LightXML.XMLNode, ::ASCIIString)\nClosest candidates are:\n  find_element(!Matched::LightXML.XMLElement, ::AbstractString)\nwhile loading In[29], in expression starting on line 17",
      "",
      " in hasmass at In[29]:5",
      " [inlined code] from show.jl:127",
      " in anonymous at In[29]:22",
      " in recursive_into at In[29]:9",
      " in recursive_into at In[29]:12 (repeats 2 times)",
      " [inlined code] from In[29]:21",
      " in anonymous at no file:0"
     ]
    },
    {
     "name": "stdout",
     "output_type": "stream",
     "text": [
      "\n"
     ]
    }
   ],
   "source": [
    "isplanet(node) = (name(node) == \"planet\")\n",
    "isnothing(x) = (x == nothing)\n",
    "xmass(planet) = find_element(planet, \"mass\")\n",
    "xradius(planet) = find_element(planet, \"radius\")\n",
    "hasmass(planet) = !isnothing(xmass(planet))\n",
    "hasradius(planet) = !isnothing(xradius(planet))\n",
    "\n",
    "function recursive_into(f, node)\n",
    "    f(node)\n",
    "    if has_children(node)\n",
    "        for child in child_nodes(node)\n",
    "            recursive_into(f, child)\n",
    "        end\n",
    "    end\n",
    "end\n",
    "\n",
    "for filename in xmlfiles[1:10]\n",
    "    fullfile = oec_path * filename\n",
    "    xmldoc = parse_file(fullfile)\n",
    "    xroot = root(xmldoc)\n",
    "    recursive_into(xroot) do node\n",
    "        if isplanet(node)\n",
    "            @show node\n",
    "            @show hasmass(node)\n",
    "        end\n",
    "    end\n",
    "end"
   ]
  },
  {
   "cell_type": "code",
   "execution_count": 62,
   "metadata": {
    "collapsed": false
   },
   "outputs": [
    {
     "name": "stdout",
     "output_type": "stream",
     "text": [
      "planet = <planet>\n",
      "\t\t\t<name>1RXS1609 b</name>\n",
      "\t\t\t<name>1RXS J160929.1-210524 b</name>\n",
      "\t\t\t<name>GSC 6213-1358 b</name>\n",
      "\t\t\t<list>Confirmed planets</list>\n",
      "\t\t\t<mass lowerlimit=\"13\" upperlimit=\"16\"/>\n",
      "\t\t\t<radius>1.7</radius>\n",
      "\t\t\t<separation errorminus=\"0.01\" errorplus=\"0.01\" unit=\"arcsec\">2.21</separation>\n",
      "\t\t\t<separation unit=\"AU\">330</separation>\n",
      "\t\t\t<positionangle errorminus=\"0.3\" errorplus=\"0.3\">27.1</positionangle>\n",
      "\t\t\t<magJ errorminus=\"0.12\" errorplus=\"0.12\">17.85</magJ>\n",
      "\t\t\t<magH errorminus=\"0.07\" errorplus=\"0.07\">16.86</magH>\n",
      "\t\t\t<magK errorminus=\"0.18\" errorplus=\"0.18\">16.15</magK>\n",
      "\t\t\t<spectraltype errorminus=\"1\" errorplus=\"1\">L2</spectraltype>\n",
      "\t\t\t<temperature errorminus=\"100\" errorplus=\"100\">2000</temperature>\n",
      "\t\t\t<description>1RXS J160929.1-210524 is a 5 million year old pre-main sequence star in the constellation of Scorpius. The observed planet has a large separation, posing problems for current formation scenarios. Two possibilities are that the planet formed by gravitational instability or migrated outwards. There is evidence that 1RXS 1609 b is surrounded by a dust disc inclined to the line of sight.</description>\n",
      "\t\t\t<discoverymethod>imaging</discoverymethod>\n",
      "\t\t\t<lastupdate>15/07/29</lastupdate>\n",
      "\t\t\t<discoveryyear>2008</discoveryyear>\n",
      "\t\t\t<image>1RXS1609</image>\n",
      "\t\t\t<imagedescription>This image of the host star and the planet was taken with the Gemini North telescope and released in September 2008. Credit: Gemini Observatory.</imagedescription>\n",
      "\t\t</planet>\n",
      "\n"
     ]
    }
   ],
   "source": [
    "\n",
    "xname(planet) = find_element(planet, \"name\")\n",
    "planetname(planet) = content(xname(planet))\n",
    "\n",
    "xmass(planet) = find_element(planet, \"mass\")\n",
    "mass(planet) = try content(xmass(planet)); catch; nothing; end\n",
    "msini(planet) = attribute(xmass(planet), \"type\") == \"msini\"\n",
    "        \n",
    "xradius(planet) = find_element(planet, \"radius\")\n",
    "radius(planet) = try content(xradius(planet)); catch; nothing; end\n",
    "\n",
    "hasmass(p) = mass(p) != nothing\n",
    "hasradius(p) = radius(p) != nothing\n",
    "function suitable(planet)\n",
    "    hasmass(planet) &&\n",
    "    hasradius(planet) &&\n",
    "    !msini(planet)\n",
    "end\n",
    "\n",
    "\n",
    "\n",
    "for filename in xmlfiles[1:10]\n",
    "    fullfile = oec_path * filename\n",
    "    xmldoc = LightXML.parse_file(fullfile)\n",
    "    system = root(xmldoc)\n",
    "    stars = get_elements_by_tagname(system, \"star\")\n",
    "    for star in stars\n",
    "        planets = get_elements_by_tagname(star, \"planet\")\n",
    "        for planet in planets\n",
    "            if suitable(planet)\n",
    "                @show planet\n",
    "            end\n",
    "        end\n",
    "    end\n",
    "end"
   ]
  },
  {
   "cell_type": "code",
   "execution_count": 35,
   "metadata": {
    "collapsed": false
   },
   "outputs": [
    {
     "data": {
      "text/plain": [
       "10-element Array{LightXML.XMLElement,1}:\n",
       " <planet>\n",
       "\t\t\t<name>11 Com b</name>\n",
       "\t\t\t<list>Confirmed planets</list>\n",
       "\t\t\t<mass errorminus=\"1.5\" errorplus=\"1.5\" type=\"msini\">19.4</mass>\n",
       "\t\t\t<period errorminus=\"0.32\" errorplus=\"0.32\">326.03</period>\n",
       "\t\t\t<semimajoraxis errorminus=\"0.05\" errorplus=\"0.05\">1.29</semimajoraxis>\n",
       "\t\t\t<eccentricity errorminus=\"0.005\" errorplus=\"0.005\">0.231</eccentricity>\n",
       "\t\t\t<periastron errorminus=\"1.5\" errorplus=\"1.5\">94.8</periastron>\n",
       "\t\t\t<periastrontime errorminus=\"1.6\" errorplus=\"1.6\">2452899.6</periastrontime>\n",
       "\t\t\t<description>11 Com b is a brown dwarf-mass companion to the intermediate-mass star 11 Comae Berenices.</description>\n",
       "\t\t\t<discoverymethod>RV</discoverymethod>\n",
       "\t\t\t<lastupdate>15/09/20</lastupdate>\n",
       "\t\t\t<discoveryyear>2008</discoveryyear>\n",
       "\t\t</planet>\n",
       "                                                                                                                                                                                                                                                                                                                                                                                                                                                                                                                                                                                                                                                                                                                                                          \n",
       " <planet>\n",
       "\t\t\t<name>11 UMi b</name>\n",
       "\t\t\t<name>11 Ursae Minoris b</name>\n",
       "\t\t\t<name>HD 136726 b</name>\n",
       "\t\t\t<list>Confirmed planets</list>\n",
       "\t\t\t<mass errorminus=\"0.245\" errorplus=\"0.245\" type=\"msini\">11.20</mass>\n",
       "\t\t\t<period errorminus=\"3.25\" errorplus=\"3.25\">516.22</period>\n",
       "\t\t\t<semimajoraxis errorminus=\"0.07\" errorplus=\"0.07\">1.54</semimajoraxis>\n",
       "\t\t\t<eccentricity errorminus=\"0.03\" errorplus=\"0.03\">0.08</eccentricity>\n",
       "\t\t\t<periastron errorminus=\"21.06\" errorplus=\"21.06\">117.63</periastron>\n",
       "\t\t\t<periastrontime errorminus=\"2.06\" errorplus=\"2.06\">2452861.04</periastrontime>\n",
       "\t\t\t<description>11 Ursae Minoris is a star located in the constellation Ursa Minor and also named Pherkard or Pherkad Minor.</description>\n",
       "\t\t\t<discoverymethod>RV</discoverymethod>\n",
       "\t\t\t<lastupdate>15/09/20</lastupdate>\n",
       "\t\t\t<discoveryyear>2009</discoveryyear>\n",
       "\t\t</planet>\n",
       "                                                                                                                                                                                                                                                                                                                                                                                                                                                                                                                                                                                                                                                              \n",
       " <planet>\n",
       "\t\t\t<name>14 And b</name>\n",
       "\t\t\t<name>14 Andromedae b</name>\n",
       "\t\t\t<name>HD 221345 b</name>\n",
       "\t\t\t<list>Confirmed planets</list>\n",
       "\t\t\t<mass type=\"msini\">4.8</mass>\n",
       "\t\t\t<period errorminus=\"0.23\" errorplus=\"0.23\">185.84</period>\n",
       "\t\t\t<semimajoraxis>0.83</semimajoraxis>\n",
       "\t\t\t<eccentricity>0</eccentricity>\n",
       "\t\t\t<periastron>0</periastron>\n",
       "\t\t\t<periastrontime errorminus=\"1.5\" errorplus=\"1.5\">2452861.4</periastrontime>\n",
       "\t\t\t<description>14 Andromedae is an evolved star in the constellation of Andromeda. It was formerly an A-type dwarf.</description>\n",
       "\t\t\t<discoverymethod>RV</discoverymethod>\n",
       "\t\t\t<lastupdate>15/09/20</lastupdate>\n",
       "\t\t\t<discoveryyear>2008</discoveryyear>\n",
       "\t\t</planet>\n",
       "                                                                                                                                                                                                                                                                                                                                                                                                                                                                                                                                                                                                                                                                                                                                                                                                                                      \n",
       " <planet>\n",
       "\t\t\t<name>14 Her b</name>\n",
       "\t\t\t<name>HD 145675 b</name>\n",
       "\t\t\t<name>GJ 614 b</name>\n",
       "\t\t\t<list>Confirmed planets</list>\n",
       "\t\t\t<mass>4.975</mass>\n",
       "\t\t\t<period>1766</period>\n",
       "\t\t\t<semimajoraxis>2.864</semimajoraxis>\n",
       "\t\t\t<eccentricity>0.359</eccentricity>\n",
       "\t\t\t<periastron>22.230</periastron>\n",
       "\t\t\t<meananomaly>330.421</meananomaly>\n",
       "\t\t\t<description>The star 14 Herculis is only 59 light years away in the constellation Hercules. However, because it is an orange dwarf star it can not be seen with the naked eye. There is only one confirmed planet in the system, but a dynamical analysis suggests that they might be two planets locked in a 4:1 mean motion resonance.</description>\n",
       "\t\t\t<discoverymethod>RV</discoverymethod>\n",
       "\t\t\t<lastupdate>15/09/21</lastupdate>\n",
       "\t\t\t<discoveryyear>2002</discoveryyear>\n",
       "\t\t</planet>\n",
       "                                                                                                                                                                                                                                                                                                                                                                                                                                                                                                                                                                                                                                                                                                    \n",
       " <planet>\n",
       "\t\t\t<name>14 Her c</name>\n",
       "\t\t\t<name>HD 145675 c</name>\n",
       "\t\t\t<name>GJ 614 c</name>\n",
       "\t\t\t<list>Controversial</list>\n",
       "\t\t\t<mass>7.679</mass>\n",
       "\t\t\t<semimajoraxis>9.037</semimajoraxis>\n",
       "\t\t\t<period>9886</period>\n",
       "\t\t\t<eccentricity>0.184</eccentricity>\n",
       "\t\t\t<periastron>189.076</periastron>\n",
       "\t\t\t<meananomaly>81.976</meananomaly>\n",
       "\t\t\t<description>14 Her c is the second companion in the system. Its properties are not yet well-constrained, though both radial velocity and direct imaging results give some constraints on its properties.</description>\n",
       "\t\t\t<discoverymethod>RV</discoverymethod>\n",
       "\t\t\t<lastupdate>15/09/21</lastupdate>\n",
       "\t\t\t<discoveryyear>2006</discoveryyear>\n",
       "\t\t</planet>\n",
       "                                                                                                                                                                                                                                                                                                                                                                                                                                                                                                                                                                                                                                                                                                                                                                                                                                        \n",
       " <planet>\n",
       "\t\t\t<name>18 Del b</name>\n",
       "\t\t\t<name>18 Delphini b</name>\n",
       "\t\t\t<name>HD 199665 b</name>\n",
       "\t\t\t<list>Confirmed planets</list>\n",
       "\t\t\t<mass type=\"msini\">10.3</mass>\n",
       "\t\t\t<period errorminus=\"3.2\" errorplus=\"3.2\">993.3</period>\n",
       "\t\t\t<semimajoraxis>2.6</semimajoraxis>\n",
       "\t\t\t<eccentricity errorminus=\"0.01\" errorplus=\"0.01\">0.08</eccentricity>\n",
       "\t\t\t<periastron errorminus=\"6.5\" errorplus=\"6.5\">166.1</periastron>\n",
       "\t\t\t<periastrontime errorminus=\"18\" errorplus=\"18\">2451672</periastrontime>\n",
       "\t\t\t<description>18 Delphini is a star in the constellation of Delphinus.</description>\n",
       "\t\t\t<discoverymethod>RV</discoverymethod>\n",
       "\t\t\t<lastupdate>15/09/23</lastupdate>\n",
       "\t\t\t<discoveryyear>2008</discoveryyear>\n",
       "\t\t</planet>\n",
       "                                                                                                                                                                                                                                                                                                                                                                                                                                                                                                                                                                                                                                                                                                                                                                                                                \n",
       " <planet>\n",
       "\t\t\t<name>1RXS1609 b</name>\n",
       "\t\t\t<name>1RXS J160929.1-210524 b</name>\n",
       "\t\t\t<name>GSC 6213-1358 b</name>\n",
       "\t\t\t<list>Confirmed planets</list>\n",
       "\t\t\t<mass lowerlimit=\"13\" upperlimit=\"16\"/>\n",
       "\t\t\t<radius>1.7</radius>\n",
       "\t\t\t<separation errorminus=\"0.01\" errorplus=\"0.01\" unit=\"arcsec\">2.21</separation>\n",
       "\t\t\t<separation unit=\"AU\">330</separation>\n",
       "\t\t\t<positionangle errorminus=\"0.3\" errorplus=\"0.3\">27.1</positionangle>\n",
       "\t\t\t<magJ errorminus=\"0.12\" errorplus=\"0.12\">17.85</magJ>\n",
       "\t\t\t<magH errorminus=\"0.07\" errorplus=\"0.07\">16.86</magH>\n",
       "\t\t\t<magK errorminus=\"0.18\" errorplus=\"0.18\">16.15</magK>\n",
       "\t\t\t<spectraltype errorminus=\"1\" errorplus=\"1\">L2</spectraltype>\n",
       "\t\t\t<temperature errorminus=\"100\" errorplus=\"100\">2000</temperature>\n",
       "\t\t\t<description>1RXS J160929.1-210524 is a 5 million year old pre-main sequence star in the constellation of Scorpius. The observed planet has a large separation, posing problems for current formation scenarios. Two possibilities are that the planet formed by gravitational instability or migrated outwards. There is evidence that 1RXS 1609 b is surrounded by a dust disc inclined to the line of sight.</description>\n",
       "\t\t\t<discoverymethod>imaging</discoverymethod>\n",
       "\t\t\t<lastupdate>15/07/29</lastupdate>\n",
       "\t\t\t<discoveryyear>2008</discoveryyear>\n",
       "\t\t\t<image>1RXS1609</image>\n",
       "\t\t\t<imagedescription>This image of the host star and the planet was taken with the Gemini North telescope and released in September 2008. Credit: Gemini Observatory.</imagedescription>\n",
       "\t\t</planet>\n",
       "\n",
       " <planet>\n",
       "\t\t\t<name>1SWASP J1407 b</name>\n",
       "\t\t\t<name>1SWASP J140747.93-394542.6 b</name>\n",
       "\t\t\t<name>J1407 b</name>\n",
       "\t\t\t<list>Controversial</list>\n",
       "\t\t\t<mass>14.0</mass>\n",
       "\t\t\t<period>10044</period>\n",
       "\t\t\t<eccentricity errorminus=\"0.1\" errorplus=\"0.1\">0.8</eccentricity>\n",
       "\t\t\t<description>The light curve of 1SWASP J140747.93-394542.6 underwent a complex series of deep eclipses that lasted 56 days in April 2007. This light curve is interpreted as the transit of a giant ring system that is filling up a fraction of the Hill sphere of an unseen secondary companion, J1407b. The object is currently listed as controversial as various inconsistencies arise in current models and it is not clear that the object really is a planet.</description>\n",
       "\t\t\t<discoverymethod>transit</discoverymethod>\n",
       "\t\t\t<istransiting>1</istransiting>\n",
       "\t\t\t<lastupdate>15/02/21</lastupdate>\n",
       "\t\t\t<discoveryyear>2007</discoveryyear>\n",
       "\t\t</planet>\n",
       "                                                                                                                                                                                                                                                                                                                                                                                                                                                                                                                                                                                                 \n",
       " <planet>\n",
       "\t\t\t<name>24 Sex b</name>\n",
       "\t\t\t<name>24 Sextantis b</name>\n",
       "\t\t\t<name>HD 90043 b</name>\n",
       "\t\t\t<list>Confirmed planets</list>\n",
       "\t\t\t<mass errorminus=\"0.38\" errorplus=\"0.26\" type=\"msini\">1.99</mass>\n",
       "\t\t\t<period errorminus=\"4.5\" errorplus=\"2.1\">452.8</period>\n",
       "\t\t\t<semimajoraxis errorminus=\"0.009\" errorplus=\"0.004\">1.333</semimajoraxis>\n",
       "\t\t\t<eccentricity errorminus=\"0.06\" errorplus=\"0.14\">0.09</eccentricity>\n",
       "\t\t\t<periastron errorminus=\"165.4\" errorplus=\"277.9\">9.2</periastron>\n",
       "\t\t\t<periastrontime errorminus=\"172.3\" errorplus=\"67.3\">2454762</periastrontime>\n",
       "\t\t\t<description>24 Sextantis is located in the constellation of Sextans. The two planets in the system are in a 2:1 mean motion resonance.</description>\n",
       "\t\t\t<discoverymethod>RV</discoverymethod>\n",
       "\t\t\t<lastupdate>15/09/23</lastupdate>\n",
       "\t\t\t<discoveryyear>2010</discoveryyear>\n",
       "\t\t</planet>\n",
       "                                                                                                                                                                                                                                                                                                                                                                                                                                                                                                                                                                                                                                                             \n",
       " <planet>\n",
       "\t\t\t<name>24 Sex c</name>\n",
       "\t\t\t<name>24 Sextantis c</name>\n",
       "\t\t\t<list>Confirmed planets</list>\n",
       "\t\t\t<mass errorminus=\"0.22\" errorplus=\"0.35\" type=\"msini\">0.86</mass>\n",
       "\t\t\t<period errorminus=\"13.8\" errorplus=\"32.4\">883.0</period>\n",
       "\t\t\t<semimajoraxis errorminus=\"0.02\" errorplus=\"0.05\">2.08</semimajoraxis>\n",
       "\t\t\t<eccentricity errorminus=\"0.09\" errorplus=\"0.16\">0.29</eccentricity>\n",
       "\t\t\t<periastron errorminus=\"320.9\" errorplus=\"182.2\">220.5</periastron>\n",
       "\t\t\t<periastrontime errorminus=\"96.5\" errorplus=\"209.9\">2454930</periastrontime>\n",
       "\t\t\t<description>24 Sextantis is located in the constellation of Sextans. The two planets in the system are in a 2:1 mean motion resonance.</description>\n",
       "\t\t\t<discoverymethod>RV</discoverymethod>\n",
       "\t\t\t<lastupdate>15/09/23</lastupdate>\n",
       "\t\t\t<discoveryyear>2010</discoveryyear>\n",
       "\t\t</planet>\n",
       "                                                                                                                                                                                                                                                                                                                                                                                                                                                                                                                                                                                                                                                                                       "
      ]
     },
     "execution_count": 35,
     "metadata": {},
     "output_type": "execute_result"
    }
   ],
   "source": [
    "planets"
   ]
  },
  {
   "cell_type": "code",
   "execution_count": null,
   "metadata": {
    "collapsed": true
   },
   "outputs": [],
   "source": []
  }
 ],
 "metadata": {
  "kernelspec": {
   "display_name": "Julia 0.4.1",
   "language": "julia",
   "name": "julia-0.4"
  },
  "language_info": {
   "file_extension": ".jl",
   "mimetype": "application/julia",
   "name": "julia",
   "version": "0.4.1"
  }
 },
 "nbformat": 4,
 "nbformat_minor": 0
}
