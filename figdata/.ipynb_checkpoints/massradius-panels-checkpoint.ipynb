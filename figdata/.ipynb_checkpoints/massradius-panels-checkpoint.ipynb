{
 "cells": [
  {
   "cell_type": "markdown",
   "metadata": {},
   "source": [
    "# Mass-radius panels\n",
    "\n",
    "## Package setup"
   ]
  },
  {
   "cell_type": "code",
   "execution_count": 1,
   "metadata": {
    "collapsed": false
   },
   "outputs": [],
   "source": [
    "using Ogre\n",
    "using WaterData\n",
    "using DataFrames\n",
    "using ProgressMeter"
   ]
  },
  {
   "cell_type": "markdown",
   "metadata": {},
   "source": [
    "## EOS\n",
    "\n",
    "Here is our full equation of state, plus isothermal EOSes for iron and silicate."
   ]
  },
  {
   "cell_type": "code",
   "execution_count": 2,
   "metadata": {
    "collapsed": false
   },
   "outputs": [
    {
     "data": {
      "text/plain": [
       "Dict{ByteString,Any} with 3 entries:\n",
       "  \"h2o\"    => WaterData.LineEOS([100000.0,1.9307e5,3.72759e5,7.19686e5,1.3895e6…\n",
       "  \"fe\"     => WaterData.LineEOS([100000.0,1.9307e5,3.72759e5,7.19686e5,1.3895e6…\n",
       "  \"mgsio3\" => WaterData.LineEOS([100000.0,1.9307e5,3.72759e5,7.19686e5,1.3895e6…"
      ]
     },
     "execution_count": 2,
     "metadata": {},
     "output_type": "execute_result"
    }
   ],
   "source": [
    "h2o_full = WaterData.load_full_eos()[\"grid\"]\n",
    "eoses = WaterData.load_piecewise_eoses()"
   ]
  },
  {
   "cell_type": "code",
   "execution_count": 3,
   "metadata": {
    "collapsed": false
   },
   "outputs": [],
   "source": [
    "# Fe, ϵ phase, Vinet at low pressures then TFD at high temperatures\n",
    "fe = eoses[\"fe\"]\n",
    "# MgSiO3 perovskite, 4th order BME at low pressures then ditto\n",
    "mgsio3 = eoses[\"mgsio3\"];"
   ]
  },
  {
   "cell_type": "markdown",
   "metadata": {},
   "source": [
    "## Planet integrator setup"
   ]
  },
  {
   "cell_type": "code",
   "execution_count": 5,
   "metadata": {
    "collapsed": false
   },
   "outputs": [],
   "source": [
    "# constants\n",
    "const Npoints = 200\n",
    "const mgsio3_fe_ratio = 2;"
   ]
  },
  {
   "cell_type": "code",
   "execution_count": 11,
   "metadata": {
    "collapsed": false
   },
   "outputs": [],
   "source": [
    "Ms = linspace(0.5M_earth, 10M_earth, 30)\n",
    "ms = Ms / M_earth\n",
    "Rbracket = [0, 10] * R_earth\n",
    "Cₚ = Ogre.GridHeatCapacity(\"$(Ogre.config.datadir)/tabulated/heatcap-h2o.dat\")\n",
    "\n",
    "Ts = 300:100:1000\n",
    "\n",
    "using DataStructures\n",
    "isotherms = OrderedDict{Int, WaterData.LineEOS}()\n",
    "for T in Ts\n",
    "    isotherms[T] = WaterData.slice(h2o_full, T)\n",
    "end\n",
    "\n",
    "function R_adiabat_watersphere(M, Psurf, Tsurf)\n",
    "    bvs = Ogre.ValueSet(M, R_earth, Psurf, Tsurf)\n",
    "    grid = linspace(M, 0, Npoints)\n",
    "    planet = Ogre.PlanetSystem(M, h2o_full, Cₚ, bvs, grid, Rbracket)\n",
    "    \n",
    "    Ogre.find_radius!(planet)\n",
    "end\n",
    "\n",
    "function R_isotherm_earthsphere(M, Psurf)\n",
    "    bvs = Ogre.ValueSet(M, R_earth, Psurf)\n",
    "    grid = linspace(M, 0, Npoints)\n",
    "    fefrac = 1/(mgsio3_fe_ratio + 1)\n",
    "    mgsio3frac = fefrac * mgsio3_fe_ratio\n",
    "    massfracs = [fefrac, mgsio3frac]\n",
    "    @assert sum(massfracs) ≈ 1\n",
    "    eos = Ogre.MassPiecewiseEOS([fe, mgsio3], M, massfracs)\n",
    "    planet = Ogre.PlanetSystem(M, eos, bvs, grid, Rbracket)\n",
    "    \n",
    "    Ogre.find_radius!(planet)\n",
    "end\n",
    "\n",
    "function R_isotherm(M, Psurf, Tsurf, h2ofrac)\n",
    "    if h2ofrac == 0\n",
    "        return R_isotherm_earthsphere(M, Psurf)\n",
    "    end\n",
    "    \n",
    "    bvs = Ogre.ValueSet(M, R_earth, Psurf, Tsurf)\n",
    "    grid = linspace(M, 0, Npoints)\n",
    "    fefrac = (1 - h2ofrac)/(mgsio3_fe_ratio + 1)\n",
    "    mgsio3frac = fefrac * mgsio3_fe_ratio\n",
    "    massfracs = [fefrac, mgsio3frac, h2ofrac]\n",
    "    @assert sum(massfracs) ≈ 1\n",
    "    h2oeos = WaterData.slice(h2o_full, Tsurf)\n",
    "    eos = Ogre.MassPiecewiseEOS([fe, mgsio3, h2oeos], M, massfracs)\n",
    "    planet = Ogre.PlanetSystem(M, eos, Cₚ, bvs, grid, Rbracket)\n",
    "    \n",
    "    Ogre.find_radius!(planet)\n",
    "end\n",
    "\n",
    "function R_adiabat(M, Psurf, Tsurf, h2ofrac)\n",
    "    @assert 0 <= h2ofrac <= 1\n",
    "    if h2ofrac == 0\n",
    "        return R_isotherm_earthsphere(M, Psurf)\n",
    "    end\n",
    "    if h2ofrac == 1\n",
    "        return R_adiabat_watersphere(M, Psurf, Tsurf)\n",
    "    end\n",
    "\n",
    "    bvs = Ogre.ValueSet(M, R_earth, Psurf, Tsurf)\n",
    "    grid = linspace(M, 0, Npoints)\n",
    "    fefrac = (1 - h2ofrac)/(mgsio3_fe_ratio + 1)\n",
    "    mgsio3frac = fefrac * mgsio3_fe_ratio\n",
    "    massfracs = [fefrac, mgsio3frac, h2ofrac]\n",
    "    @assert sum(massfracs) ≈ 1\n",
    "    eos = Ogre.MassPiecewiseEOS([fe, mgsio3, h2o_full], M, massfracs)\n",
    "    planet = Ogre.PlanetSystem(M, eos, Cₚ, bvs, grid, Rbracket)\n",
    "    \n",
    "    Ogre.find_radius!(planet)\n",
    "end;"
   ]
  },
  {
   "cell_type": "code",
   "execution_count": 12,
   "metadata": {
    "collapsed": false
   },
   "outputs": [
    {
     "name": "stdout",
     "output_type": "stream",
     "text": [
      "R_adiabat(M_earth,100000.0,300,0) / R_earth = 0.9682963602244854\n",
      "R_adiabat(M_earth,100000.0,300,0.5) / R_earth = 1.228687595576048\n",
      "R_adiabat(M_earth,100000.0,300,1) / R_earth = 1.3999396190047264\n"
     ]
    }
   ],
   "source": [
    "# Sanity checks: do we produce smaller planets when we don't have a water layer?\n",
    "@show R_adiabat(M_earth, 1e5, 300, 0) / R_earth\n",
    "@show R_adiabat(M_earth, 1e5, 300, 0.5) / R_earth\n",
    "@show R_adiabat(M_earth, 1e5, 300, 1) / R_earth;"
   ]
  },
  {
   "cell_type": "markdown",
   "metadata": {},
   "source": [
    "## MR curves across various parameters"
   ]
  },
  {
   "cell_type": "code",
   "execution_count": 21,
   "metadata": {
    "collapsed": false
   },
   "outputs": [
    {
     "name": "stdout",
     "output_type": "stream",
     "text": [
      "Progress: 100%|█████████████████████████████████████████| Time: 0:00:35\n",
      "Progress: 100%|█████████████████████████████████████████| Time: 0:00:41\n"
     ]
    }
   ],
   "source": [
    "# let's generate the data!\n",
    "\n",
    "# First: water spheres, isotherms vs adiabats\n",
    "Psurf = 1e7\n",
    "h2ofrac = 1\n",
    "for method in (:R_isotherm, :R_adiabat)\n",
    "    d = DataFrame(mass=ms)\n",
    "    @showprogress for Tsurf in Ts\n",
    "        @eval rs = map(M -> $method(M, Psurf, Tsurf, h2ofrac), Ms) / R_earth\n",
    "        d[symbol(Tsurf)] = rs\n",
    "    end\n",
    "    writetable(\"massradius/mine/isotherms_vs_adiabats/$method.csv\", d)\n",
    "end"
   ]
  },
  {
   "cell_type": "code",
   "execution_count": 23,
   "metadata": {
    "collapsed": false
   },
   "outputs": [
    {
     "name": "stdout",
     "output_type": "stream",
     "text": [
      "Progress: 100%|█████████████████████████████████████████| Time: 0:07:26\n"
     ]
    }
   ],
   "source": [
    "# Second: earth spheres with varying water fractions\n",
    "Psurf = 1e7\n",
    "h2ofracs = 0:10:100\n",
    "@showprogress for h2ofrac in h2ofracs\n",
    "    d = DataFrame(mass=ms)\n",
    "    for Tsurf in Ts \n",
    "        rs = map(M -> R_adiabat(M, Psurf, Tsurf, h2ofrac/100), Ms) / R_earth\n",
    "        d[symbol(Tsurf)] = rs\n",
    "    end\n",
    "    writetable(\"massradius/mine/h2ofractions/$(h2ofrac)pc.csv\", d)\n",
    "end"
   ]
  },
  {
   "cell_type": "code",
   "execution_count": 27,
   "metadata": {
    "collapsed": false
   },
   "outputs": [
    {
     "name": "stdout",
     "output_type": "stream",
     "text": [
      "Progress: 100%|█████████████████████████████████████████| Time: 0:04:06\n"
     ]
    }
   ],
   "source": [
    "# Third: varying surface pressures\n",
    "Psurfs = [10^x for x=5:10]\n",
    "h2ofrac = 0.1\n",
    "@showprogress for Psurf in Psurfs\n",
    "    d = DataFrame(mass = ms)\n",
    "    for Tsurf in Ts\n",
    "        rs = map(M -> R_adiabat(M, Psurf, Tsurf, h2ofrac), Ms) / R_earth\n",
    "        d[symbol(Tsurf)] = rs\n",
    "    end\n",
    "    P = round(Int, log10(Psurf))\n",
    "    writetable(\"massradius/mine/surfacepressures/1e$P.csv\", d)\n",
    "end"
   ]
  }
 ],
 "metadata": {
  "kernelspec": {
   "display_name": "Julia 0.4.1",
   "language": "julia",
   "name": "julia-0.4"
  },
  "language_info": {
   "file_extension": ".jl",
   "mimetype": "application/julia",
   "name": "julia",
   "version": "0.4.1"
  }
 },
 "nbformat": 4,
 "nbformat_minor": 0
}
