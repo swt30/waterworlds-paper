{
 "cells": [
  {
   "cell_type": "markdown",
   "metadata": {},
   "source": [
    "# Measured masses and radii for known planets\n",
    "\n",
    "## Setup\n",
    "\n",
    "We are using the Open Exoplanet Catalogue (simple CSV version) from https://github.com/OpenExoplanetCatalogue/oec_tables/"
   ]
  },
  {
   "cell_type": "code",
   "execution_count": 12,
   "metadata": {
    "collapsed": false
   },
   "outputs": [
    {
     "data": {
      "text/plain": [
       "\"/home/scott/Software/oec_tables/comma_separated/open_exoplanet_catalogue_kepler.txt\""
      ]
     },
     "execution_count": 12,
     "metadata": {},
     "output_type": "execute_result"
    }
   ],
   "source": [
    "oec_path = \"/home/scott/Software/oec_tables/\"\n",
    "oec_file = oec_path * \"comma_separated/open_exoplanet_catalogue_kepler.txt\""
   ]
  },
  {
   "cell_type": "code",
   "execution_count": 16,
   "metadata": {
    "collapsed": false
   },
   "outputs": [
    {
     "data": {
      "text/html": [
       "<table class=\"data-frame\"><tr><th></th><th>x1</th><th>x2</th><th>x3</th><th>x4</th><th>x5</th><th>x6</th><th>x7</th><th>x8</th><th>x9</th><th>x10</th><th>x11</th><th>x12</th><th>x13</th><th>x14</th><th>x15</th><th>x16</th><th>x17</th><th>x18</th><th>x19</th><th>x20</th><th>x21</th><th>x22</th><th>x23</th><th>x24</th></tr><tr><th>1</th><td>KOI-2607 b</td><td>0</td><td>NA</td><td>0.13305</td><td>0.7544552</td><td>0.016</td><td>NA</td><td>NA</td><td>NA</td><td>NA</td><td>NA</td><td>1943.0</td><td>NA</td><td>NA</td><td>NA</td><td>NA</td><td>19 22 44</td><td>+40 15 19</td><td>829.33</td><td>1.002</td><td>0.9</td><td>NA</td><td>5886.0</td><td>0.4</td></tr><tr><th>2</th><td>KOI-1843 b</td><td>0</td><td>NA</td><td>0.11665</td><td>4.194525</td><td>0.041</td><td>NA</td><td>NA</td><td>NA</td><td>NA</td><td>NA</td><td>585.0</td><td>NA</td><td>NA</td><td>NA</td><td>NA</td><td>19 00 03</td><td>+40 13 14</td><td>185.26</td><td>0.509</td><td>0.494</td><td>NA</td><td>3823.0</td><td>13.8</td></tr><tr><th>3</th><td>KOI-1843 c</td><td>0</td><td>NA</td><td>0.0729</td><td>6.356006</td><td>0.054</td><td>NA</td><td>NA</td><td>NA</td><td>NA</td><td>NA</td><td>510.0</td><td>NA</td><td>NA</td><td>NA</td><td>NA</td><td>19 00 03</td><td>+40 13 14</td><td>185.26</td><td>0.509</td><td>0.494</td><td>NA</td><td>3823.0</td><td>13.8</td></tr><tr><th>4</th><td>KOI-1907 b</td><td>0</td><td>NA</td><td>0.17679</td><td>11.350106</td><td>0.081</td><td>NA</td><td>NA</td><td>NA</td><td>NA</td><td>NA</td><td>460.0</td><td>NA</td><td>NA</td><td>NA</td><td>NA</td><td>18 51 26</td><td>+42 39 56</td><td>338.28</td><td>0.553</td><td>0.528</td><td>NA</td><td>4086.0</td><td>13.7</td></tr><tr><th>5</th><td>KOI-2550 b</td><td>0</td><td>NA</td><td>0.17041</td><td>18.02447</td><td>0.136</td><td>NA</td><td>NA</td><td>NA</td><td>NA</td><td>NA</td><td>681.0</td><td>NA</td><td>NA</td><td>NA</td><td>NA</td><td>19 48 57</td><td>+49 37 00</td><td>1334.62</td><td>1.021</td><td>0.92</td><td>NA</td><td>5952.0</td><td>0.3</td></tr><tr><th>6</th><td>KOI-4776 b</td><td>0</td><td>NA</td><td>0.09751</td><td>7.58619295</td><td>0.0692455</td><td>NA</td><td>NA</td><td>NA</td><td>NA</td><td>NA</td><td>928.0</td><td>NA</td><td>NA</td><td>NA</td><td>NA</td><td>19 57 23</td><td>+43 51 01</td><td>961.96</td><td>NA</td><td>0.871</td><td>-0.8</td><td>5934.0</td><td>NA</td></tr><tr><th>7</th><td>KOI-1965 b</td><td>0</td><td>NA</td><td>0.13578</td><td>2.514615</td><td>0.035</td><td>NA</td><td>NA</td><td>NA</td><td>NA</td><td>NA</td><td>1218.0</td><td>NA</td><td>NA</td><td>NA</td><td>NA</td><td>19 18 22</td><td>+49 46 52</td><td>657.66</td><td>0.94</td><td>0.83</td><td>NA</td><td>5659.0</td><td>0.4</td></tr><tr><th>8</th><td>KOI-2869 b</td><td>0</td><td>NA</td><td>0.11118</td><td>3.300426</td><td>0.045</td><td>NA</td><td>NA</td><td>NA</td><td>NA</td><td>NA</td><td>1450.0</td><td>NA</td><td>NA</td><td>NA</td><td>NA</td><td>19 45 10</td><td>+43 24 11</td><td>922.18</td><td>1.12</td><td>1.24</td><td>NA</td><td>6260.0</td><td>3.49</td></tr><tr><th>9</th><td>KOI-0531 b</td><td>0</td><td>NA</td><td>0.27339</td><td>3.6874687</td><td>0.038</td><td>NA</td><td>NA</td><td>NA</td><td>NA</td><td>NA</td><td>673.0</td><td>NA</td><td>NA</td><td>NA</td><td>NA</td><td>19 10 45</td><td>+47 32 48</td><td>228.64</td><td>0.553</td><td>0.529</td><td>NA</td><td>4091.0</td><td>14.0</td></tr><tr><th>10</th><td>KOI-2035 b</td><td>0</td><td>NA</td><td>0.24058</td><td>1.9315635</td><td>0.029</td><td>NA</td><td>NA</td><td>NA</td><td>NA</td><td>NA</td><td>1543.0</td><td>NA</td><td>NA</td><td>NA</td><td>NA</td><td>19 55 27</td><td>+46 30 08</td><td>478.5</td><td>0.885</td><td>1.11</td><td>NA</td><td>5654.0</td><td>12.7</td></tr><tr><th>11</th><td>KOI-3088 b</td><td>0</td><td>NA</td><td>0.10753</td><td>3.484149</td><td>0.045</td><td>NA</td><td>NA</td><td>NA</td><td>NA</td><td>NA</td><td>1208.0</td><td>NA</td><td>NA</td><td>NA</td><td>NA</td><td>19 24 39</td><td>+45 19 05</td><td>1115.48</td><td>1.032</td><td>0.94</td><td>NA</td><td>5993.0</td><td>0.7</td></tr><tr><th>12</th><td>KOI-2677 b</td><td>0</td><td>NA</td><td>0.59235</td><td>237.7882</td><td>0.788</td><td>NA</td><td>NA</td><td>NA</td><td>NA</td><td>NA</td><td>348.0</td><td>NA</td><td>NA</td><td>NA</td><td>NA</td><td>19 39 01</td><td>+46 49 52</td><td>818.85</td><td>1.152</td><td>1.2</td><td>NA</td><td>6409.0</td><td>2.19</td></tr><tr><th>13</th><td>KOI-1700 b</td><td>0</td><td>NA</td><td>0.33718</td><td>8.037617</td><td>0.076</td><td>NA</td><td>NA</td><td>NA</td><td>NA</td><td>NA</td><td>1117.0</td><td>NA</td><td>NA</td><td>NA</td><td>NA</td><td>19 48 31</td><td>+42 46 05</td><td>1288.03</td><td>0.917</td><td>1.95</td><td>NA</td><td>4996.0</td><td>13.9</td></tr><tr><th>14</th><td>KOI-4334 b</td><td>0</td><td>NA</td><td>0.10115</td><td>2.44230738</td><td>0.0318617</td><td>NA</td><td>NA</td><td>NA</td><td>NA</td><td>NA</td><td>1029.5</td><td>NA</td><td>NA</td><td>NA</td><td>NA</td><td>19 26 04</td><td>+47 08 21</td><td>866.18</td><td>NA</td><td>0.738</td><td>-0.08</td><td>4849.0</td><td>NA</td></tr><tr><th>15</th><td>KOI-1675 b</td><td>0</td><td>NA</td><td>0.82929</td><td>14.6243</td><td>0.116</td><td>NA</td><td>NA</td><td>NA</td><td>NA</td><td>NA</td><td>696.0</td><td>NA</td><td>NA</td><td>NA</td><td>NA</td><td>19 25 20</td><td>+40 33 29</td><td>1396.05</td><td>0.97</td><td>0.86</td><td>NA</td><td>5782.0</td><td>0.4</td></tr><tr><th>16</th><td>KOI-2840 b</td><td>0</td><td>NA</td><td>0.07928</td><td>3.679328</td><td>0.045</td><td>NA</td><td>NA</td><td>NA</td><td>NA</td><td>NA</td><td>1148.0</td><td>NA</td><td>NA</td><td>NA</td><td>NA</td><td>19 53 24</td><td>+41 49 12</td><td>617.29</td><td>0.925</td><td>0.93</td><td>NA</td><td>5733.0</td><td>5.7</td></tr><tr><th>17</th><td>KOI-2840 c</td><td>0</td><td>NA</td><td>0.10115</td><td>7.446267</td><td>0.073</td><td>NA</td><td>NA</td><td>NA</td><td>NA</td><td>NA</td><td>901.0</td><td>NA</td><td>NA</td><td>NA</td><td>NA</td><td>19 53 24</td><td>+41 49 12</td><td>617.29</td><td>0.925</td><td>0.93</td><td>NA</td><td>5733.0</td><td>5.7</td></tr><tr><th>18</th><td>KOI-0624 b</td><td>0</td><td>NA</td><td>0.21598</td><td>17.789742</td><td>0.131</td><td>NA</td><td>NA</td><td>NA</td><td>NA</td><td>NA</td><td>643.0</td><td>NA</td><td>NA</td><td>NA</td><td>NA</td><td>19 22 41</td><td>+38 41 27</td><td>492.96</td><td>0.958</td><td>0.85</td><td>NA</td><td>5725.0</td><td>0.4</td></tr><tr><th>19</th><td>KOI-0624 c</td><td>0</td><td>NA</td><td>0.23967</td><td>49.56681</td><td>0.26</td><td>NA</td><td>NA</td><td>NA</td><td>NA</td><td>NA</td><td>457.0</td><td>NA</td><td>NA</td><td>NA</td><td>NA</td><td>19 22 41</td><td>+38 41 27</td><td>492.96</td><td>0.958</td><td>0.85</td><td>NA</td><td>5725.0</td><td>0.4</td></tr><tr><th>20</th><td>KOI-0624 d</td><td>0</td><td>NA</td><td>0.12303</td><td>1.3118451</td><td>0.023</td><td>NA</td><td>NA</td><td>NA</td><td>NA</td><td>NA</td><td>1535.0</td><td>NA</td><td>NA</td><td>NA</td><td>NA</td><td>19 22 41</td><td>+38 41 27</td><td>492.96</td><td>0.958</td><td>0.85</td><td>NA</td><td>5725.0</td><td>0.4</td></tr><tr><th>21</th><td>KOI-0686 b</td><td>0</td><td>NA</td><td>1.03889</td><td>52.513565</td><td>0.262</td><td>NA</td><td>NA</td><td>NA</td><td>NA</td><td>NA</td><td>453.0</td><td>NA</td><td>NA</td><td>NA</td><td>NA</td><td>19 47 21</td><td>+43 38 49</td><td>488.07</td><td>0.869</td><td>0.9</td><td>NA</td><td>5559.0</td><td>8.6</td></tr><tr><th>22</th><td>KOI-2780 b</td><td>0</td><td>NA</td><td>0.2096</td><td>3.351824</td><td>0.045</td><td>NA</td><td>NA</td><td>NA</td><td>NA</td><td>NA</td><td>1297.0</td><td>NA</td><td>NA</td><td>NA</td><td>NA</td><td>19 37 10</td><td>+50 43 31</td><td>1671.21</td><td>1.1</td><td>1.01</td><td>NA</td><td>6202.0</td><td>0.3</td></tr><tr><th>23</th><td>KOI-2628 b</td><td>0</td><td>NA</td><td>0.10845</td><td>1.681873</td><td>0.029</td><td>NA</td><td>NA</td><td>NA</td><td>NA</td><td>NA</td><td>1691.0</td><td>NA</td><td>NA</td><td>NA</td><td>NA</td><td>19 19 49</td><td>+47 01 13</td><td>1314.98</td><td>1.1</td><td>1.09</td><td>NA</td><td>6242.0</td><td>1.9</td></tr><tr><th>24</th><td>KOI-1651 b</td><td>0</td><td>NA</td><td>0.24605</td><td>51.3002</td><td>0.274</td><td>NA</td><td>NA</td><td>NA</td><td>NA</td><td>NA</td><td>494.0</td><td>NA</td><td>NA</td><td>NA</td><td>NA</td><td>18 58 27</td><td>+49 11 26</td><td>1024.67</td><td>1.045</td><td>0.94</td><td>NA</td><td>6034.0</td><td>0.3</td></tr><tr><th>25</th><td>KOI-3943 b</td><td>0</td><td>NA</td><td>0.22874</td><td>38.576127</td><td>0.232136</td><td>NA</td><td>NA</td><td>NA</td><td>NA</td><td>NA</td><td>702.0</td><td>NA</td><td>NA</td><td>NA</td><td>NA</td><td>19 23 29</td><td>+43 19 58</td><td>665.69</td><td>NA</td><td>1.402</td><td>-0.28</td><td>6478.0</td><td>NA</td></tr><tr><th>26</th><td>KOI-0992 b</td><td>0</td><td>NA</td><td>0.16859</td><td>9.93161</td><td>0.09</td><td>NA</td><td>NA</td><td>NA</td><td>NA</td><td>NA</td><td>806.0</td><td>NA</td><td>NA</td><td>NA</td><td>NA</td><td>19 25 59</td><td>+37 03 33</td><td>1118.67</td><td>0.986</td><td>0.88</td><td>NA</td><td>5841.0</td><td>0.4</td></tr><tr><th>27</th><td>KOI-4714 b</td><td>0</td><td>NA</td><td>0.14581</td><td>2.049551</td><td>0.0299986</td><td>NA</td><td>NA</td><td>NA</td><td>NA</td><td>NA</td><td>1183.0</td><td>NA</td><td>NA</td><td>NA</td><td>NA</td><td>19 16 43</td><td>+51 33 45</td><td>NA</td><td>NA</td><td>0.755</td><td>NA</td><td>NA</td><td>NA</td></tr><tr><th>28</th><td>KOI-1465 b</td><td>0</td><td>NA</td><td>0.72904</td><td>9.771455</td><td>0.089</td><td>NA</td><td>NA</td><td>NA</td><td>NA</td><td>NA</td><td>804.0</td><td>NA</td><td>NA</td><td>NA</td><td>NA</td><td>19 04 35</td><td>+49 52 03</td><td>708.89</td><td>0.981</td><td>0.88</td><td>NA</td><td>5812.0</td><td>0.4</td></tr><tr><th>29</th><td>KOI-0365 b</td><td>0</td><td>NA</td><td>0.20869</td><td>81.73747</td><td>0.349</td><td>NA</td><td>NA</td><td>NA</td><td>NA</td><td>NA</td><td>380.0</td><td>NA</td><td>NA</td><td>NA</td><td>NA</td><td>19 49 56</td><td>+49 37 24</td><td>151.33</td><td>0.848</td><td>0.87</td><td>NA</td><td>5451.0</td><td>9.6</td></tr><tr><th>30</th><td>KOI-0739 b</td><td>0</td><td>NA</td><td>0.13487</td><td>1.2870749</td><td>0.019</td><td>NA</td><td>NA</td><td>NA</td><td>NA</td><td>NA</td><td>975.0</td><td>NA</td><td>NA</td><td>NA</td><td>NA</td><td>18 51 56</td><td>+47 34 42</td><td>392.24</td><td>0.565</td><td>0.538</td><td>NA</td><td>4153.0</td><td>13.7</td></tr><tr><th>&vellip;</th><td>&vellip;</td><td>&vellip;</td><td>&vellip;</td><td>&vellip;</td><td>&vellip;</td><td>&vellip;</td><td>&vellip;</td><td>&vellip;</td><td>&vellip;</td><td>&vellip;</td><td>&vellip;</td><td>&vellip;</td><td>&vellip;</td><td>&vellip;</td><td>&vellip;</td><td>&vellip;</td><td>&vellip;</td><td>&vellip;</td><td>&vellip;</td><td>&vellip;</td><td>&vellip;</td><td>&vellip;</td><td>&vellip;</td><td>&vellip;</td></tr></table>"
      ],
      "text/plain": [
       "3839x24 DataFrames.DataFrame\n",
       "| Row  | x1           | x2 | x3 | x4      | x5       | x6        | x7 | x8 |\n",
       "|------|--------------|----|----|---------|----------|-----------|----|----|\n",
       "| 1    | \"KOI-2607 b\" | 0  | NA | 0.13305 | 0.754455 | 0.016     | NA | NA |\n",
       "| 2    | \"KOI-1843 b\" | 0  | NA | 0.11665 | 4.19452  | 0.041     | NA | NA |\n",
       "| 3    | \"KOI-1843 c\" | 0  | NA | 0.0729  | 6.35601  | 0.054     | NA | NA |\n",
       "| 4    | \"KOI-1907 b\" | 0  | NA | 0.17679 | 11.3501  | 0.081     | NA | NA |\n",
       "| 5    | \"KOI-2550 b\" | 0  | NA | 0.17041 | 18.0245  | 0.136     | NA | NA |\n",
       "| 6    | \"KOI-4776 b\" | 0  | NA | 0.09751 | 7.58619  | 0.0692455 | NA | NA |\n",
       "| 7    | \"KOI-1965 b\" | 0  | NA | 0.13578 | 2.51462  | 0.035     | NA | NA |\n",
       "| 8    | \"KOI-2869 b\" | 0  | NA | 0.11118 | 3.30043  | 0.045     | NA | NA |\n",
       "| 9    | \"KOI-0531 b\" | 0  | NA | 0.27339 | 3.68747  | 0.038     | NA | NA |\n",
       "| 10   | \"KOI-2035 b\" | 0  | NA | 0.24058 | 1.93156  | 0.029     | NA | NA |\n",
       "| 11   | \"KOI-3088 b\" | 0  | NA | 0.10753 | 3.48415  | 0.045     | NA | NA |\n",
       "⋮\n",
       "| 3828 | \"KOI-2065 b\" | 0  | NA | 0.32807 | 80.2325  | 0.353     | NA | NA |\n",
       "| 3829 | \"KOI-3367 b\" | 0  | NA | 0.18135 | 25.3737  | 0.169279  | NA | NA |\n",
       "| 3830 | \"KOI-1473 b\" | 0  | NA | 0.63791 | 23.0203  | 0.158     | NA | NA |\n",
       "| 3831 | \"KOI-4556 b\" | 0  | NA | 0.15228 | 21.5811  | 0.155336  | NA | NA |\n",
       "| 3832 | \"KOI-1061 b\" | 0  | NA | 0.21871 | 41.8129  | 0.234     | NA | NA |\n",
       "| 3833 | \"KOI-1002 b\" | 0  | NA | 0.12394 | 3.48154  | 0.045     | NA | NA |\n",
       "| 3834 | \"KOI-4558 b\" | 0  | NA | 0.10024 | 8.82342  | 0.0795807 | NA | NA |\n",
       "| 3835 | \"KOI-2925 b\" | 0  | NA | 0.11027 | 0.716534 | 0.015     | NA | NA |\n",
       "| 3836 | \"KOI-1564 b\" | 0  | NA | 0.46476 | 53.4496  | 0.276     | NA | NA |\n",
       "| 3837 | \"KOI-4054 b\" | 0  | NA | 0.20122 | 169.134  | 0.568691  | NA | NA |\n",
       "| 3838 | \"KOI-1395 b\" | 0  | NA | 0.29162 | 6.23023  | 0.063     | NA | NA |\n",
       "| 3839 | \"KOI-4327 b\" | 0  | NA | 0.09113 | 0.991699 | 0.0197375 | NA | NA |\n",
       "\n",
       "| Row  | x9 | x10 | x11 | x12    | x13 | x14 | x15 | x16 | x17        |\n",
       "|------|----|-----|-----|--------|-----|-----|-----|-----|------------|\n",
       "| 1    | NA | NA  | NA  | 1943.0 | NA  | NA  | NA  | NA  | \"19 22 44\" |\n",
       "| 2    | NA | NA  | NA  | 585.0  | NA  | NA  | NA  | NA  | \"19 00 03\" |\n",
       "| 3    | NA | NA  | NA  | 510.0  | NA  | NA  | NA  | NA  | \"19 00 03\" |\n",
       "| 4    | NA | NA  | NA  | 460.0  | NA  | NA  | NA  | NA  | \"18 51 26\" |\n",
       "| 5    | NA | NA  | NA  | 681.0  | NA  | NA  | NA  | NA  | \"19 48 57\" |\n",
       "| 6    | NA | NA  | NA  | 928.0  | NA  | NA  | NA  | NA  | \"19 57 23\" |\n",
       "| 7    | NA | NA  | NA  | 1218.0 | NA  | NA  | NA  | NA  | \"19 18 22\" |\n",
       "| 8    | NA | NA  | NA  | 1450.0 | NA  | NA  | NA  | NA  | \"19 45 10\" |\n",
       "| 9    | NA | NA  | NA  | 673.0  | NA  | NA  | NA  | NA  | \"19 10 45\" |\n",
       "| 10   | NA | NA  | NA  | 1543.0 | NA  | NA  | NA  | NA  | \"19 55 27\" |\n",
       "| 11   | NA | NA  | NA  | 1208.0 | NA  | NA  | NA  | NA  | \"19 24 39\" |\n",
       "⋮\n",
       "| 3828 | NA | NA  | NA  | 393.0  | NA  | NA  | NA  | NA  | \"18 51 27\" |\n",
       "| 3829 | NA | NA  | NA  | 653.0  | NA  | NA  | NA  | NA  | \"19 52 45\" |\n",
       "| 3830 | NA | NA  | NA  | 563.0  | NA  | NA  | NA  | NA  | \"18 41 26\" |\n",
       "| 3831 | NA | NA  | NA  | 931.0  | NA  | NA  | NA  | NA  | \"19 18 28\" |\n",
       "| 3832 | NA | NA  | NA  | 530.0  | NA  | NA  | NA  | NA  | \"19 20 31\" |\n",
       "| 3833 | NA | NA  | NA  | 1146.0 | NA  | NA  | NA  | NA  | \"19 22 43\" |\n",
       "| 3834 | NA | NA  | NA  | 911.0  | NA  | NA  | NA  | NA  | \"19 02 22\" |\n",
       "| 3835 | NA | NA  | NA  | 1977.0 | NA  | NA  | NA  | NA  | \"19 53 11\" |\n",
       "| 3836 | NA | NA  | NA  | 453.0  | NA  | NA  | NA  | NA  | \"19 24 20\" |\n",
       "| 3837 | NA | NA  | NA  | 277.8  | NA  | NA  | NA  | NA  | \"19 06 26\" |\n",
       "| 3838 | NA | NA  | NA  | 821.0  | NA  | NA  | NA  | NA  | \"18 56 50\" |\n",
       "| 3839 | NA | NA  | NA  | 1836.0 | NA  | NA  | NA  | NA  | \"19 37 46\" |\n",
       "\n",
       "| Row  | x18         | x19     | x20   | x21   | x22   | x23    | x24  |\n",
       "|------|-------------|---------|-------|-------|-------|--------|------|\n",
       "| 1    | \"+40 15 19\" | 829.33  | 1.002 | 0.9   | NA    | 5886.0 | 0.4  |\n",
       "| 2    | \"+40 13 14\" | 185.26  | 0.509 | 0.494 | NA    | 3823.0 | 13.8 |\n",
       "| 3    | \"+40 13 14\" | 185.26  | 0.509 | 0.494 | NA    | 3823.0 | 13.8 |\n",
       "| 4    | \"+42 39 56\" | 338.28  | 0.553 | 0.528 | NA    | 4086.0 | 13.7 |\n",
       "| 5    | \"+49 37 00\" | 1334.62 | 1.021 | 0.92  | NA    | 5952.0 | 0.3  |\n",
       "| 6    | \"+43 51 01\" | 961.96  | NA    | 0.871 | -0.8  | 5934.0 | NA   |\n",
       "| 7    | \"+49 46 52\" | 657.66  | 0.94  | 0.83  | NA    | 5659.0 | 0.4  |\n",
       "| 8    | \"+43 24 11\" | 922.18  | 1.12  | 1.24  | NA    | 6260.0 | 3.49 |\n",
       "| 9    | \"+47 32 48\" | 228.64  | 0.553 | 0.529 | NA    | 4091.0 | 14.0 |\n",
       "| 10   | \"+46 30 08\" | 478.5   | 0.885 | 1.11  | NA    | 5654.0 | 12.7 |\n",
       "| 11   | \"+45 19 05\" | 1115.48 | 1.032 | 0.94  | NA    | 5993.0 | 0.7  |\n",
       "⋮\n",
       "| 3828 | \"+41 47 48\" | 694.94  | 0.913 | 0.88  | NA    | 5656.0 | 4.5  |\n",
       "| 3829 | \"+48 23 46\" | 1284.41 | NA    | 0.966 | -0.3  | 6195.0 | NA   |\n",
       "| 3830 | \"+43 07 25\" | 1139.14 | 1.0   | 0.89  | NA    | 5396.0 | NA   |\n",
       "| 3831 | \"+47 33 28\" | 581.15  | NA    | 2.062 | -0.32 | 5790.0 | NA   |\n",
       "| 3832 | \"+41 22 53\" | 906.4   | 0.98  | 0.97  | NA    | 5900.0 | 4.1  |\n",
       "| 3833 | \"+37 21 18\" | 542.43  | 0.976 | 1.012 | NA    | 5481.0 | 7.5  |\n",
       "| 3834 | \"+40 40 46\" | NA      | NA    | 1.084 | NA    | NA     | NA   |\n",
       "| 3835 | \"+42 26 03\" | 500.68  | 0.84  | 0.99  | NA    | 5520.0 | 13.9 |\n",
       "| 3836 | \"+40 21 18\" | 1126.21 | 0.976 | 0.87  | NA    | 5796.0 | 0.4  |\n",
       "| 3837 | \"+41 53 21\" | 623.37  | NA    | 0.779 | -0.14 | 5380.0 | NA   |\n",
       "| 3838 | \"+45 15 29\" | 1157.38 | 0.862 | 0.76  | NA    | 5363.0 | 0.7  |\n",
       "| 3839 | \"+40 34 18\" | NA      | NA    | 0.943 | NA    | NA     | NA   |"
      ]
     },
     "execution_count": 16,
     "metadata": {},
     "output_type": "execute_result"
    }
   ],
   "source": [
    "colnames = []\n",
    "data = readtable(oec_file, header=false, allowcomments=true, names=colnames)\n"
   ]
  },
  {
   "cell_type": "code",
   "execution_count": null,
   "metadata": {
    "collapsed": true
   },
   "outputs": [],
   "source": []
  }
 ],
 "metadata": {
  "kernelspec": {
   "display_name": "Julia 0.4.1",
   "language": "julia",
   "name": "julia-0.4"
  },
  "language_info": {
   "file_extension": ".jl",
   "mimetype": "application/julia",
   "name": "julia",
   "version": "0.4.1"
  }
 },
 "nbformat": 4,
 "nbformat_minor": 0
}
